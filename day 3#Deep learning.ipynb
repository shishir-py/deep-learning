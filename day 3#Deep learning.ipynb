{
 "cells": [
  {
   "cell_type": "markdown",
   "id": "3155e4a3",
   "metadata": {},
   "source": [
    "### Build a deep learning model with Tensorflow and keras\n",
    "\n",
    "#### importing the libraries a, Build the first network with keras"
   ]
  },
  {
   "cell_type": "code",
   "execution_count": 1,
   "id": "d6a2d850",
   "metadata": {},
   "outputs": [],
   "source": [
    "from keras.models import Sequential\n",
    "from keras.layers import Dense\n",
    "import pandas as pd\n",
    "import numpy\n",
    "import warnings\n",
    "warnings.filterwarnings('ignore')"
   ]
  },
  {
   "cell_type": "code",
   "execution_count": 2,
   "id": "f1f68838",
   "metadata": {},
   "outputs": [
    {
     "name": "stdout",
     "output_type": "stream",
     "text": [
      "Downloading pima-indians-diabetes-database.zip to C:\\Users\\sheah\\deep Learning\n",
      "\n"
     ]
    },
    {
     "name": "stderr",
     "output_type": "stream",
     "text": [
      "\n",
      "  0%|          | 0.00/8.91k [00:00<?, ?B/s]\n",
      "100%|##########| 8.91k/8.91k [00:00<00:00, 2.28MB/s]\n"
     ]
    }
   ],
   "source": [
    "# this is simple code to download the datasets using kaggle api :\n",
    "# !kaggle datasets download -d uciml/pima-indians-diabetes-database"
   ]
  },
  {
   "cell_type": "code",
   "execution_count": 3,
   "id": "25671801",
   "metadata": {},
   "outputs": [],
   "source": [
    "dataset=pd.read_csv('./pima-indians-diabetes-database/diabetes.csv')"
   ]
  },
  {
   "cell_type": "code",
   "execution_count": 4,
   "id": "90bbc218",
   "metadata": {},
   "outputs": [
    {
     "name": "stdout",
     "output_type": "stream",
     "text": [
      "(768, 9)\n"
     ]
    }
   ],
   "source": [
    "print(dataset.shape)"
   ]
  },
  {
   "cell_type": "code",
   "execution_count": 5,
   "id": "d1e81f70",
   "metadata": {},
   "outputs": [
    {
     "data": {
      "text/html": [
       "<div>\n",
       "<style scoped>\n",
       "    .dataframe tbody tr th:only-of-type {\n",
       "        vertical-align: middle;\n",
       "    }\n",
       "\n",
       "    .dataframe tbody tr th {\n",
       "        vertical-align: top;\n",
       "    }\n",
       "\n",
       "    .dataframe thead th {\n",
       "        text-align: right;\n",
       "    }\n",
       "</style>\n",
       "<table border=\"1\" class=\"dataframe\">\n",
       "  <thead>\n",
       "    <tr style=\"text-align: right;\">\n",
       "      <th></th>\n",
       "      <th>Pregnancies</th>\n",
       "      <th>Glucose</th>\n",
       "      <th>BloodPressure</th>\n",
       "      <th>SkinThickness</th>\n",
       "      <th>Insulin</th>\n",
       "      <th>BMI</th>\n",
       "      <th>DiabetesPedigreeFunction</th>\n",
       "      <th>Age</th>\n",
       "      <th>Outcome</th>\n",
       "    </tr>\n",
       "  </thead>\n",
       "  <tbody>\n",
       "    <tr>\n",
       "      <th>0</th>\n",
       "      <td>6</td>\n",
       "      <td>148</td>\n",
       "      <td>72</td>\n",
       "      <td>35</td>\n",
       "      <td>0</td>\n",
       "      <td>33.6</td>\n",
       "      <td>0.627</td>\n",
       "      <td>50</td>\n",
       "      <td>1</td>\n",
       "    </tr>\n",
       "    <tr>\n",
       "      <th>1</th>\n",
       "      <td>1</td>\n",
       "      <td>85</td>\n",
       "      <td>66</td>\n",
       "      <td>29</td>\n",
       "      <td>0</td>\n",
       "      <td>26.6</td>\n",
       "      <td>0.351</td>\n",
       "      <td>31</td>\n",
       "      <td>0</td>\n",
       "    </tr>\n",
       "    <tr>\n",
       "      <th>2</th>\n",
       "      <td>8</td>\n",
       "      <td>183</td>\n",
       "      <td>64</td>\n",
       "      <td>0</td>\n",
       "      <td>0</td>\n",
       "      <td>23.3</td>\n",
       "      <td>0.672</td>\n",
       "      <td>32</td>\n",
       "      <td>1</td>\n",
       "    </tr>\n",
       "    <tr>\n",
       "      <th>3</th>\n",
       "      <td>1</td>\n",
       "      <td>89</td>\n",
       "      <td>66</td>\n",
       "      <td>23</td>\n",
       "      <td>94</td>\n",
       "      <td>28.1</td>\n",
       "      <td>0.167</td>\n",
       "      <td>21</td>\n",
       "      <td>0</td>\n",
       "    </tr>\n",
       "    <tr>\n",
       "      <th>4</th>\n",
       "      <td>0</td>\n",
       "      <td>137</td>\n",
       "      <td>40</td>\n",
       "      <td>35</td>\n",
       "      <td>168</td>\n",
       "      <td>43.1</td>\n",
       "      <td>2.288</td>\n",
       "      <td>33</td>\n",
       "      <td>1</td>\n",
       "    </tr>\n",
       "  </tbody>\n",
       "</table>\n",
       "</div>"
      ],
      "text/plain": [
       "   Pregnancies  Glucose  BloodPressure  SkinThickness  Insulin   BMI  \\\n",
       "0            6      148             72             35        0  33.6   \n",
       "1            1       85             66             29        0  26.6   \n",
       "2            8      183             64              0        0  23.3   \n",
       "3            1       89             66             23       94  28.1   \n",
       "4            0      137             40             35      168  43.1   \n",
       "\n",
       "   DiabetesPedigreeFunction  Age  Outcome  \n",
       "0                     0.627   50        1  \n",
       "1                     0.351   31        0  \n",
       "2                     0.672   32        1  \n",
       "3                     0.167   21        0  \n",
       "4                     2.288   33        1  "
      ]
     },
     "execution_count": 5,
     "metadata": {},
     "output_type": "execute_result"
    }
   ],
   "source": [
    "dataset.head()"
   ]
  },
  {
   "cell_type": "code",
   "execution_count": 6,
   "id": "26256e96",
   "metadata": {},
   "outputs": [
    {
     "data": {
      "text/plain": [
       "Pregnancies                 False\n",
       "Glucose                     False\n",
       "BloodPressure               False\n",
       "SkinThickness               False\n",
       "Insulin                     False\n",
       "BMI                         False\n",
       "DiabetesPedigreeFunction    False\n",
       "Age                         False\n",
       "Outcome                     False\n",
       "dtype: bool"
      ]
     },
     "execution_count": 6,
     "metadata": {},
     "output_type": "execute_result"
    }
   ],
   "source": [
    "dataset.isnull().any()"
   ]
  },
  {
   "cell_type": "code",
   "execution_count": 7,
   "id": "b119bd21",
   "metadata": {},
   "outputs": [
    {
     "data": {
      "text/plain": [
       "0"
      ]
     },
     "execution_count": 7,
     "metadata": {},
     "output_type": "execute_result"
    }
   ],
   "source": [
    "dataset.duplicated().sum()"
   ]
  },
  {
   "cell_type": "code",
   "execution_count": 8,
   "id": "6f688a65",
   "metadata": {},
   "outputs": [
    {
     "name": "stdout",
     "output_type": "stream",
     "text": [
      "(768, 8)\n",
      "(768,)\n"
     ]
    }
   ],
   "source": [
    "X=dataset.iloc[:,0:8].values\n",
    "y=dataset['Outcome'].values\n",
    "print(X.shape)\n",
    "print(y.shape)"
   ]
  },
  {
   "cell_type": "markdown",
   "id": "bbb61e8c",
   "metadata": {},
   "source": [
    "### Modeling"
   ]
  },
  {
   "cell_type": "code",
   "execution_count": 9,
   "id": "47d9973a",
   "metadata": {},
   "outputs": [],
   "source": [
    "model=Sequential()\n",
    "#adding three dense layers\n",
    "model.add(Dense(10, input_shape=(8,), activation='relu'))\n",
    "model.add(Dense(8,activation='relu'))\n",
    "model.add(Dense(1,activation='sigmoid'))"
   ]
  },
  {
   "cell_type": "code",
   "execution_count": 10,
   "id": "74272f80",
   "metadata": {},
   "outputs": [],
   "source": [
    "model.compile(loss='binary_crossentropy', optimizer='adam', metrics=['accuracy'])"
   ]
  },
  {
   "cell_type": "code",
   "execution_count": 15,
   "id": "4b2bc8e7",
   "metadata": {
    "scrolled": false
   },
   "outputs": [
    {
     "name": "stdout",
     "output_type": "stream",
     "text": [
      "Epoch 1/40\n",
      "77/77 - 1s - loss: 0.5275 - accuracy: 0.7422 - 628ms/epoch - 8ms/step\n",
      "Epoch 2/40\n",
      "77/77 - 0s - loss: 0.5257 - accuracy: 0.7396 - 180ms/epoch - 2ms/step\n",
      "Epoch 3/40\n",
      "77/77 - 0s - loss: 0.5361 - accuracy: 0.7331 - 223ms/epoch - 3ms/step\n",
      "Epoch 4/40\n",
      "77/77 - 0s - loss: 0.5240 - accuracy: 0.7461 - 193ms/epoch - 3ms/step\n",
      "Epoch 5/40\n",
      "77/77 - 0s - loss: 0.5313 - accuracy: 0.7266 - 179ms/epoch - 2ms/step\n",
      "Epoch 6/40\n",
      "77/77 - 0s - loss: 0.5354 - accuracy: 0.7396 - 183ms/epoch - 2ms/step\n",
      "Epoch 7/40\n",
      "77/77 - 0s - loss: 0.5170 - accuracy: 0.7539 - 183ms/epoch - 2ms/step\n",
      "Epoch 8/40\n",
      "77/77 - 0s - loss: 0.5387 - accuracy: 0.7292 - 184ms/epoch - 2ms/step\n",
      "Epoch 9/40\n",
      "77/77 - 0s - loss: 0.5192 - accuracy: 0.7487 - 183ms/epoch - 2ms/step\n",
      "Epoch 10/40\n",
      "77/77 - 0s - loss: 0.5223 - accuracy: 0.7422 - 180ms/epoch - 2ms/step\n",
      "Epoch 11/40\n",
      "77/77 - 0s - loss: 0.5453 - accuracy: 0.7240 - 207ms/epoch - 3ms/step\n",
      "Epoch 12/40\n",
      "77/77 - 0s - loss: 0.5215 - accuracy: 0.7448 - 241ms/epoch - 3ms/step\n",
      "Epoch 13/40\n",
      "77/77 - 0s - loss: 0.5178 - accuracy: 0.7422 - 187ms/epoch - 2ms/step\n",
      "Epoch 14/40\n",
      "77/77 - 0s - loss: 0.5261 - accuracy: 0.7344 - 191ms/epoch - 2ms/step\n",
      "Epoch 15/40\n",
      "77/77 - 0s - loss: 0.5184 - accuracy: 0.7409 - 189ms/epoch - 2ms/step\n",
      "Epoch 16/40\n",
      "77/77 - 0s - loss: 0.5221 - accuracy: 0.7461 - 186ms/epoch - 2ms/step\n",
      "Epoch 17/40\n",
      "77/77 - 0s - loss: 0.5261 - accuracy: 0.7461 - 184ms/epoch - 2ms/step\n",
      "Epoch 18/40\n",
      "77/77 - 0s - loss: 0.5269 - accuracy: 0.7435 - 186ms/epoch - 2ms/step\n",
      "Epoch 19/40\n",
      "77/77 - 0s - loss: 0.5264 - accuracy: 0.7422 - 197ms/epoch - 3ms/step\n",
      "Epoch 20/40\n",
      "77/77 - 0s - loss: 0.5135 - accuracy: 0.7422 - 234ms/epoch - 3ms/step\n",
      "Epoch 21/40\n",
      "77/77 - 0s - loss: 0.5251 - accuracy: 0.7396 - 251ms/epoch - 3ms/step\n",
      "Epoch 22/40\n",
      "77/77 - 0s - loss: 0.5192 - accuracy: 0.7474 - 192ms/epoch - 2ms/step\n",
      "Epoch 23/40\n",
      "77/77 - 0s - loss: 0.5117 - accuracy: 0.7591 - 185ms/epoch - 2ms/step\n",
      "Epoch 24/40\n",
      "77/77 - 0s - loss: 0.5286 - accuracy: 0.7448 - 230ms/epoch - 3ms/step\n",
      "Epoch 25/40\n",
      "77/77 - 0s - loss: 0.5176 - accuracy: 0.7448 - 225ms/epoch - 3ms/step\n",
      "Epoch 26/40\n",
      "77/77 - 0s - loss: 0.5315 - accuracy: 0.7396 - 208ms/epoch - 3ms/step\n",
      "Epoch 27/40\n",
      "77/77 - 0s - loss: 0.5226 - accuracy: 0.7487 - 233ms/epoch - 3ms/step\n",
      "Epoch 28/40\n",
      "77/77 - 0s - loss: 0.5144 - accuracy: 0.7487 - 240ms/epoch - 3ms/step\n",
      "Epoch 29/40\n",
      "77/77 - 0s - loss: 0.5099 - accuracy: 0.7565 - 242ms/epoch - 3ms/step\n",
      "Epoch 30/40\n",
      "77/77 - 0s - loss: 0.5129 - accuracy: 0.7383 - 245ms/epoch - 3ms/step\n",
      "Epoch 31/40\n",
      "77/77 - 0s - loss: 0.5120 - accuracy: 0.7487 - 211ms/epoch - 3ms/step\n",
      "Epoch 32/40\n",
      "77/77 - 0s - loss: 0.5094 - accuracy: 0.7461 - 179ms/epoch - 2ms/step\n",
      "Epoch 33/40\n",
      "77/77 - 0s - loss: 0.5298 - accuracy: 0.7487 - 183ms/epoch - 2ms/step\n",
      "Epoch 34/40\n",
      "77/77 - 0s - loss: 0.5103 - accuracy: 0.7487 - 184ms/epoch - 2ms/step\n",
      "Epoch 35/40\n",
      "77/77 - 0s - loss: 0.5124 - accuracy: 0.7448 - 187ms/epoch - 2ms/step\n",
      "Epoch 36/40\n",
      "77/77 - 0s - loss: 0.5270 - accuracy: 0.7344 - 190ms/epoch - 2ms/step\n",
      "Epoch 37/40\n",
      "77/77 - 0s - loss: 0.5095 - accuracy: 0.7474 - 185ms/epoch - 2ms/step\n",
      "Epoch 38/40\n",
      "77/77 - 0s - loss: 0.5312 - accuracy: 0.7383 - 186ms/epoch - 2ms/step\n",
      "Epoch 39/40\n",
      "77/77 - 0s - loss: 0.5148 - accuracy: 0.7383 - 184ms/epoch - 2ms/step\n",
      "Epoch 40/40\n",
      "77/77 - 0s - loss: 0.5208 - accuracy: 0.7422 - 185ms/epoch - 2ms/step\n",
      "24/24 [==============================] - 0s 3ms/step - loss: 0.4957 - accuracy: 0.7578\n"
     ]
    }
   ],
   "source": [
    "model.fit(X,y, epochs=40, batch_size=10, verbose=2)\n",
    "accuracy=model.evaluate(X,y)"
   ]
  },
  {
   "cell_type": "code",
   "execution_count": 12,
   "id": "4afd867f",
   "metadata": {},
   "outputs": [
    {
     "name": "stdout",
     "output_type": "stream",
     "text": [
      "Model: \"sequential\"\n",
      "_________________________________________________________________\n",
      " Layer (type)                Output Shape              Param #   \n",
      "=================================================================\n",
      " dense (Dense)               (None, 10)                90        \n",
      "                                                                 \n",
      " dense_1 (Dense)             (None, 8)                 88        \n",
      "                                                                 \n",
      " dense_2 (Dense)             (None, 1)                 9         \n",
      "                                                                 \n",
      "=================================================================\n",
      "Total params: 187\n",
      "Trainable params: 187\n",
      "Non-trainable params: 0\n",
      "_________________________________________________________________\n"
     ]
    }
   ],
   "source": [
    "model.summary()"
   ]
  },
  {
   "cell_type": "code",
   "execution_count": 13,
   "id": "37f3c6ee",
   "metadata": {},
   "outputs": [
    {
     "data": {
      "text/plain": [
       "Index(['Pregnancies', 'Glucose', 'BloodPressure', 'SkinThickness', 'Insulin',\n",
       "       'BMI', 'DiabetesPedigreeFunction', 'Age', 'Outcome'],\n",
       "      dtype='object')"
      ]
     },
     "execution_count": 13,
     "metadata": {},
     "output_type": "execute_result"
    }
   ],
   "source": [
    "dataset.columns"
   ]
  },
  {
   "cell_type": "code",
   "execution_count": 16,
   "id": "af9abba7",
   "metadata": {},
   "outputs": [
    {
     "name": "stdout",
     "output_type": "stream",
     "text": [
      "Epoch 1/50\n",
      "20/20 [==============================] - 1s 25ms/step - loss: 0.6846 - accuracy: 0.6173 - val_loss: 0.6714 - val_accuracy: 0.6364\n",
      "Epoch 2/50\n",
      "20/20 [==============================] - 0s 7ms/step - loss: 0.6725 - accuracy: 0.6547 - val_loss: 0.6640 - val_accuracy: 0.6429\n",
      "Epoch 3/50\n",
      "20/20 [==============================] - 0s 8ms/step - loss: 0.6662 - accuracy: 0.6531 - val_loss: 0.6593 - val_accuracy: 0.6429\n",
      "Epoch 4/50\n",
      "20/20 [==============================] - 0s 8ms/step - loss: 0.6616 - accuracy: 0.6531 - val_loss: 0.6562 - val_accuracy: 0.6429\n",
      "Epoch 5/50\n",
      "20/20 [==============================] - 0s 9ms/step - loss: 0.6583 - accuracy: 0.6531 - val_loss: 0.6527 - val_accuracy: 0.6429\n",
      "Epoch 6/50\n",
      "20/20 [==============================] - 0s 8ms/step - loss: 0.6548 - accuracy: 0.6531 - val_loss: 0.6495 - val_accuracy: 0.6429\n",
      "Epoch 7/50\n",
      "20/20 [==============================] - 0s 8ms/step - loss: 0.6513 - accuracy: 0.6531 - val_loss: 0.6462 - val_accuracy: 0.6429\n",
      "Epoch 8/50\n",
      "20/20 [==============================] - 0s 7ms/step - loss: 0.6479 - accuracy: 0.6531 - val_loss: 0.6424 - val_accuracy: 0.6429\n",
      "Epoch 9/50\n",
      "20/20 [==============================] - 0s 7ms/step - loss: 0.6445 - accuracy: 0.6547 - val_loss: 0.6393 - val_accuracy: 0.6429\n",
      "Epoch 10/50\n",
      "20/20 [==============================] - 0s 7ms/step - loss: 0.6415 - accuracy: 0.6531 - val_loss: 0.6357 - val_accuracy: 0.6429\n",
      "Epoch 11/50\n",
      "20/20 [==============================] - 0s 6ms/step - loss: 0.6380 - accuracy: 0.6531 - val_loss: 0.6331 - val_accuracy: 0.6429\n",
      "Epoch 12/50\n",
      "20/20 [==============================] - 0s 6ms/step - loss: 0.6347 - accuracy: 0.6531 - val_loss: 0.6299 - val_accuracy: 0.6429\n",
      "Epoch 13/50\n",
      "20/20 [==============================] - 0s 7ms/step - loss: 0.6322 - accuracy: 0.6515 - val_loss: 0.6261 - val_accuracy: 0.6364\n",
      "Epoch 14/50\n",
      "20/20 [==============================] - 0s 7ms/step - loss: 0.6287 - accuracy: 0.6531 - val_loss: 0.6235 - val_accuracy: 0.6364\n",
      "Epoch 15/50\n",
      "20/20 [==============================] - 0s 6ms/step - loss: 0.6255 - accuracy: 0.6547 - val_loss: 0.6203 - val_accuracy: 0.6429\n",
      "Epoch 16/50\n",
      "20/20 [==============================] - 0s 7ms/step - loss: 0.6217 - accuracy: 0.6580 - val_loss: 0.6169 - val_accuracy: 0.6364\n",
      "Epoch 17/50\n",
      "20/20 [==============================] - 0s 6ms/step - loss: 0.6183 - accuracy: 0.6612 - val_loss: 0.6139 - val_accuracy: 0.6364\n",
      "Epoch 18/50\n",
      "20/20 [==============================] - 0s 7ms/step - loss: 0.6149 - accuracy: 0.6645 - val_loss: 0.6102 - val_accuracy: 0.6429\n",
      "Epoch 19/50\n",
      "20/20 [==============================] - 0s 7ms/step - loss: 0.6114 - accuracy: 0.6759 - val_loss: 0.6067 - val_accuracy: 0.6364\n",
      "Epoch 20/50\n",
      "20/20 [==============================] - 0s 8ms/step - loss: 0.6094 - accuracy: 0.6824 - val_loss: 0.6029 - val_accuracy: 0.6299\n",
      "Epoch 21/50\n",
      "20/20 [==============================] - 0s 8ms/step - loss: 0.6045 - accuracy: 0.6922 - val_loss: 0.6006 - val_accuracy: 0.6234\n",
      "Epoch 22/50\n",
      "20/20 [==============================] - 0s 8ms/step - loss: 0.6014 - accuracy: 0.6824 - val_loss: 0.5986 - val_accuracy: 0.6364\n",
      "Epoch 23/50\n",
      "20/20 [==============================] - 0s 8ms/step - loss: 0.5989 - accuracy: 0.6971 - val_loss: 0.5941 - val_accuracy: 0.6299\n",
      "Epoch 24/50\n",
      "20/20 [==============================] - 0s 7ms/step - loss: 0.5957 - accuracy: 0.6938 - val_loss: 0.5928 - val_accuracy: 0.6299\n",
      "Epoch 25/50\n",
      "20/20 [==============================] - 0s 7ms/step - loss: 0.5930 - accuracy: 0.7052 - val_loss: 0.5887 - val_accuracy: 0.6299\n",
      "Epoch 26/50\n",
      "20/20 [==============================] - 0s 7ms/step - loss: 0.5894 - accuracy: 0.7052 - val_loss: 0.5858 - val_accuracy: 0.6364\n",
      "Epoch 27/50\n",
      "20/20 [==============================] - 0s 7ms/step - loss: 0.5871 - accuracy: 0.7020 - val_loss: 0.5840 - val_accuracy: 0.6299\n",
      "Epoch 28/50\n",
      "20/20 [==============================] - 0s 7ms/step - loss: 0.5842 - accuracy: 0.7003 - val_loss: 0.5813 - val_accuracy: 0.6364\n",
      "Epoch 29/50\n",
      "20/20 [==============================] - 0s 7ms/step - loss: 0.5805 - accuracy: 0.7117 - val_loss: 0.5774 - val_accuracy: 0.6429\n",
      "Epoch 30/50\n",
      "20/20 [==============================] - 0s 7ms/step - loss: 0.5778 - accuracy: 0.7182 - val_loss: 0.5743 - val_accuracy: 0.6623\n",
      "Epoch 31/50\n",
      "20/20 [==============================] - 0s 8ms/step - loss: 0.5747 - accuracy: 0.7215 - val_loss: 0.5722 - val_accuracy: 0.6494\n",
      "Epoch 32/50\n",
      "20/20 [==============================] - 0s 8ms/step - loss: 0.5721 - accuracy: 0.7215 - val_loss: 0.5693 - val_accuracy: 0.6948\n",
      "Epoch 33/50\n",
      "20/20 [==============================] - 0s 8ms/step - loss: 0.5709 - accuracy: 0.7166 - val_loss: 0.5686 - val_accuracy: 0.6623\n",
      "Epoch 34/50\n",
      "20/20 [==============================] - 0s 7ms/step - loss: 0.5665 - accuracy: 0.7231 - val_loss: 0.5643 - val_accuracy: 0.6818\n",
      "Epoch 35/50\n",
      "20/20 [==============================] - 0s 7ms/step - loss: 0.5642 - accuracy: 0.7296 - val_loss: 0.5624 - val_accuracy: 0.6753\n",
      "Epoch 36/50\n",
      "20/20 [==============================] - 0s 7ms/step - loss: 0.5619 - accuracy: 0.7296 - val_loss: 0.5603 - val_accuracy: 0.6753\n",
      "Epoch 37/50\n",
      "20/20 [==============================] - 0s 8ms/step - loss: 0.5597 - accuracy: 0.7264 - val_loss: 0.5565 - val_accuracy: 0.7143\n",
      "Epoch 38/50\n",
      "20/20 [==============================] - 0s 8ms/step - loss: 0.5562 - accuracy: 0.7329 - val_loss: 0.5562 - val_accuracy: 0.6753\n",
      "Epoch 39/50\n",
      "20/20 [==============================] - 0s 8ms/step - loss: 0.5545 - accuracy: 0.7362 - val_loss: 0.5529 - val_accuracy: 0.6948\n",
      "Epoch 40/50\n",
      "20/20 [==============================] - 0s 8ms/step - loss: 0.5519 - accuracy: 0.7329 - val_loss: 0.5505 - val_accuracy: 0.7013\n",
      "Epoch 41/50\n",
      "20/20 [==============================] - 0s 8ms/step - loss: 0.5497 - accuracy: 0.7329 - val_loss: 0.5480 - val_accuracy: 0.7208\n",
      "Epoch 42/50\n",
      "20/20 [==============================] - 0s 8ms/step - loss: 0.5473 - accuracy: 0.7394 - val_loss: 0.5469 - val_accuracy: 0.6948\n",
      "Epoch 43/50\n",
      "20/20 [==============================] - 0s 8ms/step - loss: 0.5451 - accuracy: 0.7410 - val_loss: 0.5441 - val_accuracy: 0.7143\n",
      "Epoch 44/50\n",
      "20/20 [==============================] - 0s 6ms/step - loss: 0.5430 - accuracy: 0.7378 - val_loss: 0.5445 - val_accuracy: 0.7013\n",
      "Epoch 45/50\n",
      "20/20 [==============================] - 0s 6ms/step - loss: 0.5411 - accuracy: 0.7378 - val_loss: 0.5399 - val_accuracy: 0.7338\n",
      "Epoch 46/50\n",
      "20/20 [==============================] - 0s 6ms/step - loss: 0.5385 - accuracy: 0.7410 - val_loss: 0.5379 - val_accuracy: 0.7273\n",
      "Epoch 47/50\n",
      "20/20 [==============================] - 0s 7ms/step - loss: 0.5367 - accuracy: 0.7443 - val_loss: 0.5361 - val_accuracy: 0.7338\n",
      "Epoch 48/50\n",
      "20/20 [==============================] - 0s 6ms/step - loss: 0.5356 - accuracy: 0.7345 - val_loss: 0.5333 - val_accuracy: 0.7403\n",
      "Epoch 49/50\n",
      "20/20 [==============================] - 0s 6ms/step - loss: 0.5323 - accuracy: 0.7410 - val_loss: 0.5323 - val_accuracy: 0.7338\n",
      "Epoch 50/50\n",
      "20/20 [==============================] - 0s 6ms/step - loss: 0.5309 - accuracy: 0.7443 - val_loss: 0.5316 - val_accuracy: 0.7338\n"
     ]
    },
    {
     "data": {
      "text/plain": [
       "<keras.callbacks.History at 0x2339baa4a90>"
      ]
     },
     "execution_count": 16,
     "metadata": {},
     "output_type": "execute_result"
    }
   ],
   "source": [
    "from sklearn.preprocessing import MinMaxScaler\n",
    "from tensorflow import keras\n",
    "data =dataset\n",
    "\n",
    "X = data.drop('Outcome', axis=1)\n",
    "y = data['Outcome']\n",
    "\n",
    "# Scale the numerical features using MinMaxScaler\n",
    "scaler = MinMaxScaler()\n",
    "X_scaled = scaler.fit_transform(X)\n",
    "\n",
    "model = keras.Sequential([\n",
    "    keras.layers.Dense(32, input_shape=(X_scaled.shape[1],), activation='relu'),\n",
    "    keras.layers.Dense(1, activation='sigmoid')\n",
    "])\n",
    "\n",
    "# Compile the model and train it on the scaled features\n",
    "model.compile(optimizer='adam', loss='binary_crossentropy', metrics=['accuracy'])\n",
    "model.fit(X_scaled, y, epochs=50, batch_size=32, validation_split=0.2)\n"
   ]
  },
  {
   "cell_type": "code",
   "execution_count": null,
   "id": "11a11105",
   "metadata": {},
   "outputs": [],
   "source": []
  }
 ],
 "metadata": {
  "kernelspec": {
   "display_name": "Python 3 (ipykernel)",
   "language": "python",
   "name": "python3"
  },
  "language_info": {
   "codemirror_mode": {
    "name": "ipython",
    "version": 3
   },
   "file_extension": ".py",
   "mimetype": "text/x-python",
   "name": "python",
   "nbconvert_exporter": "python",
   "pygments_lexer": "ipython3",
   "version": "3.9.13"
  }
 },
 "nbformat": 4,
 "nbformat_minor": 5
}
