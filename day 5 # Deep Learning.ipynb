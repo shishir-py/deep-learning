{
 "cells": [
  {
   "cell_type": "markdown",
   "id": "571965f2-1609-4cdf-9fa6-6667c11fefc0",
   "metadata": {},
   "source": [
    "### Importing the Necessery Libraries"
   ]
  },
  {
   "cell_type": "code",
   "execution_count": 1,
   "id": "bfbdbe42-58fc-424c-b235-8aaa8d7932f9",
   "metadata": {},
   "outputs": [],
   "source": [
    "#importing dataset\n",
    "from keras.datasets import cifar10\n",
    "from keras.models import Model\n",
    "from keras.layers import Dense, Activation, Dropout, Input, Convolution2D, MaxPooling2D, Flatten\n",
    "from keras.utils import np_utils\n",
    "import numpy as np\n"
   ]
  },
  {
   "cell_type": "code",
   "execution_count": 3,
   "id": "8e7e127e-19b9-4329-af0d-07b841acd08a",
   "metadata": {},
   "outputs": [],
   "source": [
    "batch_size=32\n",
    "num_epohs=2\n",
    "karnel_size=3\n",
    "pool_size=2\n",
    "conv_depth1=32\n",
    "conv_depth2=64\n",
    "drop_prob_1=0.25\n",
    "drop_prob_2=0.5\n",
    "hidden_size=512"
   ]
  },
  {
   "cell_type": "code",
   "execution_count": null,
   "id": "18ac1b08-9033-4121-b647-15f44e60f551",
   "metadata": {},
   "outputs": [],
   "source": [
    " X_train,y_train,X_test,y_test=cifar10.load_data()"
   ]
  },
  {
   "cell_type": "code",
   "execution_count": null,
   "id": "22a001eb-4d7b-4450-bcc5-75bb1a7e1ce9",
   "metadata": {},
   "outputs": [],
   "source": []
  }
 ],
 "metadata": {
  "kernelspec": {
   "display_name": "Python 3 (ipykernel)",
   "language": "python",
   "name": "python3"
  },
  "language_info": {
   "codemirror_mode": {
    "name": "ipython",
    "version": 3
   },
   "file_extension": ".py",
   "mimetype": "text/x-python",
   "name": "python",
   "nbconvert_exporter": "python",
   "pygments_lexer": "ipython3",
   "version": "3.9.13"
  }
 },
 "nbformat": 4,
 "nbformat_minor": 5
}
