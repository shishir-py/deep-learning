{
  "nbformat": 4,
  "nbformat_minor": 0,
  "metadata": {
    "colab": {
      "provenance": [],
      "authorship_tag": "ABX9TyMqUJhUpNBNPHK+iipCTZfr",
      "include_colab_link": true
    },
    "kernelspec": {
      "name": "python3",
      "display_name": "Python 3"
    },
    "language_info": {
      "name": "python"
    }
  },
  "cells": [
    {
      "cell_type": "markdown",
      "metadata": {
        "id": "view-in-github",
        "colab_type": "text"
      },
      "source": [
        "<a href=\"https://colab.research.google.com/github/shishir-py/deep-learning/blob/main/Tensor.ipynb\" target=\"_parent\"><img src=\"https://colab.research.google.com/assets/colab-badge.svg\" alt=\"Open In Colab\"/></a>"
      ]
    },
    {
      "cell_type": "markdown",
      "source": [
        "# what is tensor ?"
      ],
      "metadata": {
        "id": "hg8ncj_K4fHU"
      }
    },
    {
      "cell_type": "markdown",
      "source": [
        "**Tensor is the representation of higher dimensional datatype, Generally the tensor are the data type which are generally higher dimension and computational space**"
      ],
      "metadata": {
        "id": "rPCrL1-o4kAu"
      }
    },
    {
      "cell_type": "markdown",
      "source": [
        "# Creating the Tensor :"
      ],
      "metadata": {
        "id": "DKhNLsb55EqJ"
      }
    },
    {
      "cell_type": "code",
      "source": [
        "import tensorflow as tf\n",
        "string=tf.Variable(\"this is variable\", tf.string)\n",
        "number=tf.Variable(432,tf.int64)\n",
        "floats=tf.Variable(32.4,tf.float64)"
      ],
      "metadata": {
        "id": "P39LlPq24iUn"
      },
      "execution_count": 3,
      "outputs": []
    },
    {
      "cell_type": "code",
      "source": [
        "print(string)\n",
        "print(number)\n",
        "print(floats)\n"
      ],
      "metadata": {
        "colab": {
          "base_uri": "https://localhost:8080/"
        },
        "id": "beOdTrCL53Wx",
        "outputId": "ca6ab341-8109-4bd3-fb76-607441807d06"
      },
      "execution_count": 6,
      "outputs": [
        {
          "output_type": "stream",
          "name": "stdout",
          "text": [
            "<tf.Variable 'Variable:0' shape=() dtype=string, numpy=b'this is variable'>\n",
            "<tf.Variable 'Variable:0' shape=() dtype=int32, numpy=432>\n",
            "<tf.Variable 'Variable:0' shape=() dtype=float32, numpy=32.4>\n"
          ]
        }
      ]
    },
    {
      "cell_type": "markdown",
      "source": [
        "# Rank / Dimension of tensor"
      ],
      "metadata": {
        "id": "KS1kAsf26d7C"
      }
    },
    {
      "cell_type": "code",
      "source": [
        "rank1_tensor=tf.Variable(\"this is string\", tf.string)\n",
        "rank2_tensor=tf.Variable(['string1','string2'],tf.string)\n",
        "rank3_tensor=tf.Variable([['string1','string2'],['string3','string4']],tf.string)"
      ],
      "metadata": {
        "id": "P_Ele2Vb6ENt"
      },
      "execution_count": 24,
      "outputs": []
    },
    {
      "cell_type": "code",
      "source": [
        "print(rank1_tensor)\n",
        "print(rank2_tensor)\n",
        "print(rank3_tensor)\n",
        "\n"
      ],
      "metadata": {
        "colab": {
          "base_uri": "https://localhost:8080/"
        },
        "id": "8vWPqNu4642r",
        "outputId": "daa3d9f0-f4c6-4dd7-9d63-a5282e1466fa"
      },
      "execution_count": 25,
      "outputs": [
        {
          "output_type": "stream",
          "name": "stdout",
          "text": [
            "<tf.Variable 'Variable:0' shape=() dtype=string, numpy=b'this is string'>\n",
            "<tf.Variable 'Variable:0' shape=(2,) dtype=string, numpy=array([b'string1', b'string2'], dtype=object)>\n",
            "<tf.Variable 'Variable:0' shape=(2, 2) dtype=string, numpy=\n",
            "array([[b'string1', b'string2'],\n",
            "       [b'string3', b'string4']], dtype=object)>\n"
          ]
        }
      ]
    },
    {
      "cell_type": "code",
      "source": [
        "print(tf.rank(rank1_tensor))\n",
        "print(tf.rank(rank2_tensor)) \n",
        "print(tf.rank(rank3_tensor))"
      ],
      "metadata": {
        "colab": {
          "base_uri": "https://localhost:8080/"
        },
        "id": "opnQSCaG68W4",
        "outputId": "562b7b7d-ddef-40ea-afdb-8b349ceb5871"
      },
      "execution_count": 26,
      "outputs": [
        {
          "output_type": "stream",
          "name": "stdout",
          "text": [
            "tf.Tensor(0, shape=(), dtype=int32)\n",
            "tf.Tensor(1, shape=(), dtype=int32)\n",
            "tf.Tensor(2, shape=(), dtype=int32)\n"
          ]
        }
      ]
    },
    {
      "cell_type": "markdown",
      "source": [
        "# Shape of Tensor ⚗"
      ],
      "metadata": {
        "id": "PxiBiDvF8xUW"
      }
    },
    {
      "cell_type": "code",
      "source": [
        "print(rank1_tensor.shape)\n",
        "print(rank2_tensor.shape)\n",
        "print(rank3_tensor.shape)\n"
      ],
      "metadata": {
        "colab": {
          "base_uri": "https://localhost:8080/"
        },
        "id": "J28Yj3mE7ZHE",
        "outputId": "995ef81e-cc66-4e6e-ffa8-2aa63a2d48ad"
      },
      "execution_count": 28,
      "outputs": [
        {
          "output_type": "stream",
          "name": "stdout",
          "text": [
            "()\n",
            "(2,)\n",
            "(2, 2)\n"
          ]
        }
      ]
    },
    {
      "cell_type": "code",
      "source": [
        "var=tf.Variable([[1,2],[3,4],[6,7]], tf.string)\n",
        "var.shape"
      ],
      "metadata": {
        "colab": {
          "base_uri": "https://localhost:8080/"
        },
        "id": "HCiLAect862I",
        "outputId": "4779ce90-dff4-4b33-e5a7-a7928ac12ee7"
      },
      "execution_count": 31,
      "outputs": [
        {
          "output_type": "execute_result",
          "data": {
            "text/plain": [
              "TensorShape([3, 2])"
            ]
          },
          "metadata": {},
          "execution_count": 31
        }
      ]
    },
    {
      "cell_type": "code",
      "source": [
        "tf.rank(var)"
      ],
      "metadata": {
        "colab": {
          "base_uri": "https://localhost:8080/"
        },
        "id": "FvMcdLMy9R1u",
        "outputId": "78f5c87a-9987-4aef-9f59-88d01ad9f141"
      },
      "execution_count": 32,
      "outputs": [
        {
          "output_type": "execute_result",
          "data": {
            "text/plain": [
              "<tf.Tensor: shape=(), dtype=int32, numpy=2>"
            ]
          },
          "metadata": {},
          "execution_count": 32
        }
      ]
    },
    {
      "cell_type": "markdown",
      "source": [
        "# Changing the shape of Tensor "
      ],
      "metadata": {
        "id": "EWWkO6ea9y2g"
      }
    },
    {
      "cell_type": "code",
      "source": [
        "tf1=tf.ones([1,2,3])\n",
        "tf2=tf.reshape(tf1,[1,3,2])\n",
        "tf3=tf.reshape(tf2,[3,2,1])\n",
        "\n"
      ],
      "metadata": {
        "id": "i-CtSGNd9c_e"
      },
      "execution_count": 43,
      "outputs": []
    },
    {
      "cell_type": "code",
      "source": [
        "print(tf1)\n",
        "print(tf.rank(tf1))\n",
        "print(tf2)\n",
        "print(tf.rank(tf2))\n",
        "print(tf3)\n",
        "print(tf.rank(tf3))"
      ],
      "metadata": {
        "colab": {
          "base_uri": "https://localhost:8080/"
        },
        "id": "q-h66EdO-cWU",
        "outputId": "20607012-ecea-47ea-cda4-13534d6298ea"
      },
      "execution_count": 44,
      "outputs": [
        {
          "output_type": "stream",
          "name": "stdout",
          "text": [
            "tf.Tensor(\n",
            "[[[1. 1. 1.]\n",
            "  [1. 1. 1.]]], shape=(1, 2, 3), dtype=float32)\n",
            "tf.Tensor(3, shape=(), dtype=int32)\n",
            "tf.Tensor(\n",
            "[[[1. 1.]\n",
            "  [1. 1.]\n",
            "  [1. 1.]]], shape=(1, 3, 2), dtype=float32)\n",
            "tf.Tensor(3, shape=(), dtype=int32)\n",
            "tf.Tensor(\n",
            "[[[1.]\n",
            "  [1.]]\n",
            "\n",
            " [[1.]\n",
            "  [1.]]\n",
            "\n",
            " [[1.]\n",
            "  [1.]]], shape=(3, 2, 1), dtype=float32)\n",
            "tf.Tensor(3, shape=(), dtype=int32)\n"
          ]
        }
      ]
    },
    {
      "cell_type": "markdown",
      "source": [
        "# Types of tensor\n",
        "\n",
        "\n",
        "1.   variable\n",
        "2.   constant\n",
        "3.   placeholder\n",
        "4.   sparse Tensor\n",
        "\n",
        "**Except the Variable other tensor are immutable during execution**\n",
        "\n"
      ],
      "metadata": {
        "id": "e508GGPBA85f"
      }
    },
    {
      "cell_type": "markdown",
      "source": [
        "# Eva;uating Tensor ⚖\n",
        "\n",
        "**we need session to run the evaluation**"
      ],
      "metadata": {
        "id": "abBc7yCDBtf7"
      }
    },
    {
      "cell_type": "code",
      "source": [
        "import tensorflow as tf\n",
        "\n",
        "# Define a simple computation graph\n",
        "x = tf.constant(2)\n",
        "y = tf.constant(3)\n",
        "z = tf.add(x, y)\n",
        "\n",
        "# Evaluate the value of `z` using Eager Execution\n",
        "result = z.numpy()\n",
        "\n",
        "print(result) # Output: 5\n"
      ],
      "metadata": {
        "colab": {
          "base_uri": "https://localhost:8080/"
        },
        "id": "sVbeaLP2_NRC",
        "outputId": "61a0b53a-fa1b-420b-8f77-067d6e212149"
      },
      "execution_count": 48,
      "outputs": [
        {
          "output_type": "stream",
          "name": "stdout",
          "text": [
            "5\n"
          ]
        }
      ]
    },
    {
      "cell_type": "code",
      "source": [],
      "metadata": {
        "id": "uE8MSfLICJMY"
      },
      "execution_count": null,
      "outputs": []
    }
  ]
}