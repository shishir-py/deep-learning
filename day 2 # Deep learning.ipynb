{
 "cells": [
  {
   "cell_type": "markdown",
   "id": "b82d0f3b",
   "metadata": {},
   "source": [
    "### Notes:\n",
    "**Here i am going to write how we are gonna work on the Deep learning Network with core concepts:**\n",
    "* we have gonnna 3 layers\n",
    "    1. Input layer \n",
    "    2. Hidden layer\n",
    "    3. Output Layer\n",
    " \n",
    "* how the network work:\n",
    "    input>weights>hidden layer 1(Activation function) >weights >hidden layer 2 (Activation function) >weights >output layer\n",
    "    \n",
    "* How to compare results:\n",
    "    compare output to intended output > cost function (cross entropy )\n",
    "    optimization function (optimizer) > minimize cost ( AdamOptimizer....SGD, AdaGrad)\n",
    "    \n",
    "* Backpropagation\n",
    "* feed forward + back propagation = epoch\n",
    "* weights  are  \n",
    "* dataset: minist datasets which contains the images of handwritten images\n",
    "* ogjectives: 28 by 28 images and pass to neural network\n",
    "* output: number of handwritten digits"
   ]
  },
  {
   "cell_type": "code",
   "execution_count": 1,
   "id": "2d980d48",
   "metadata": {},
   "outputs": [],
   "source": [
    "import tensorflow as tf"
   ]
  },
  {
   "cell_type": "code",
   "execution_count": 4,
   "id": "730ac749",
   "metadata": {},
   "outputs": [
    {
     "name": "stdout",
     "output_type": "stream",
     "text": [
      "Downloading data from https://storage.googleapis.com/tensorflow/tf-keras-datasets/mnist.npz\n",
      "11490434/11490434 [==============================] - 6s 1us/step\n"
     ]
    }
   ],
   "source": [
    "(x_train, y_train), (x_test, y_test) = tf.keras.datasets.mnist.load_data()"
   ]
  },
  {
   "cell_type": "code",
   "execution_count": 8,
   "id": "0eaa3013",
   "metadata": {},
   "outputs": [
    {
     "data": {
      "text/plain": [
       "array([7, 2, 1, ..., 4, 5, 6], dtype=uint8)"
      ]
     },
     "execution_count": 8,
     "metadata": {},
     "output_type": "execute_result"
    }
   ],
   "source": [
    "y_test"
   ]
  },
  {
   "cell_type": "code",
   "execution_count": 9,
   "id": "586d9336",
   "metadata": {},
   "outputs": [],
   "source": [
    "n1=500\n",
    "n2=500\n",
    "n3=500"
   ]
  },
  {
   "cell_type": "code",
   "execution_count": 10,
   "id": "3f98a168",
   "metadata": {},
   "outputs": [],
   "source": [
    "n_classes=10"
   ]
  },
  {
   "cell_type": "code",
   "execution_count": 11,
   "id": "56f95cc8",
   "metadata": {},
   "outputs": [],
   "source": [
    "batch_size =100"
   ]
  },
  {
   "cell_type": "code",
   "execution_count": 12,
   "id": "8b78703e",
   "metadata": {},
   "outputs": [
    {
     "ename": "AttributeError",
     "evalue": "module 'tensorflow' has no attribute 'placeholder'",
     "output_type": "error",
     "traceback": [
      "\u001b[1;31m---------------------------------------------------------------------------\u001b[0m",
      "\u001b[1;31mAttributeError\u001b[0m                            Traceback (most recent call last)",
      "\u001b[1;32m~\\AppData\\Local\\Temp\\ipykernel_10548\\1538773079.py\u001b[0m in \u001b[0;36m<module>\u001b[1;34m\u001b[0m\n\u001b[1;32m----> 1\u001b[1;33m \u001b[0mx\u001b[0m\u001b[1;33m=\u001b[0m\u001b[0mtf\u001b[0m\u001b[1;33m.\u001b[0m\u001b[0mplaceholder\u001b[0m\u001b[1;33m(\u001b[0m\u001b[1;34m'float'\u001b[0m\u001b[1;33m)\u001b[0m\u001b[1;33m\u001b[0m\u001b[1;33m\u001b[0m\u001b[0m\n\u001b[0m\u001b[0;32m      2\u001b[0m \u001b[0my\u001b[0m\u001b[1;33m=\u001b[0m\u001b[0mtf\u001b[0m\u001b[1;33m.\u001b[0m\u001b[0mplaceholder\u001b[0m\u001b[1;33m(\u001b[0m\u001b[1;34m'float'\u001b[0m\u001b[1;33m)\u001b[0m\u001b[1;33m\u001b[0m\u001b[1;33m\u001b[0m\u001b[0m\n",
      "\u001b[1;31mAttributeError\u001b[0m: module 'tensorflow' has no attribute 'placeholder'"
     ]
    }
   ],
   "source": [
    "x=tf.placeholder('float')\n",
    "y=tf.placeholder('float')"
   ]
  },
  {
   "cell_type": "code",
   "execution_count": null,
   "id": "f58fc138",
   "metadata": {},
   "outputs": [],
   "source": []
  }
 ],
 "metadata": {
  "kernelspec": {
   "display_name": "Python 3 (ipykernel)",
   "language": "python",
   "name": "python3"
  },
  "language_info": {
   "codemirror_mode": {
    "name": "ipython",
    "version": 3
   },
   "file_extension": ".py",
   "mimetype": "text/x-python",
   "name": "python",
   "nbconvert_exporter": "python",
   "pygments_lexer": "ipython3",
   "version": "3.9.13"
  }
 },
 "nbformat": 4,
 "nbformat_minor": 5
}
