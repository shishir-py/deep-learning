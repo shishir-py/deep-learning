{
 "cells": [
  {
   "cell_type": "code",
   "execution_count": 1,
   "id": "295fb9c2",
   "metadata": {},
   "outputs": [],
   "source": [
    "import numpy as np \n",
    "from keras.datasets import reuters"
   ]
  },
  {
   "cell_type": "code",
   "execution_count": 2,
   "id": "f4581f37-69cc-49bb-b461-037ca443c9b7",
   "metadata": {},
   "outputs": [],
   "source": [
    "from keras.models import Sequential\n",
    "from keras.layers import Dense, Activation, Dropout\n",
    "from keras.utils import np_utils\n",
    "from keras.preprocessing.text import Tokenizer"
   ]
  },
  {
   "cell_type": "markdown",
   "id": "2c7830c8-735c-436c-93f3-4d22551cc9c9",
   "metadata": {
    "tags": []
   },
   "source": [
    "### Defining number of parameters"
   ]
  },
  {
   "cell_type": "code",
   "execution_count": 3,
   "id": "d90b143e-9654-4f24-850c-863487b11c09",
   "metadata": {},
   "outputs": [
    {
     "name": "stdout",
     "output_type": "stream",
     "text": [
      "Loading data ......\n",
      "WARNING:tensorflow:The `nb_words` argument in `load_data` has been renamed `num_words`.\n",
      "train length 8982\n",
      "test length 2246\n"
     ]
    }
   ],
   "source": [
    "max_words=1000\n",
    "batch_size=32\n",
    "num_epochs=5\n",
    "# loading the data\n",
    "print('Loading data ......')\n",
    "(X_train,y_train),(X_test,y_test)=reuters.load_data(nb_words=max_words,test_split=0.2)\n",
    "print('train length',len(X_train))\n",
    "print('test length',len(X_test))\n",
    "nb_classes=np.max(y_train)+1"
   ]
  },
  {
   "cell_type": "code",
   "execution_count": 4,
   "id": "70b0d923-8dbd-47b5-98ec-1877920f371e",
   "metadata": {},
   "outputs": [
    {
     "name": "stdout",
     "output_type": "stream",
     "text": [
      "vectorizing the data ........\n",
      "X_train.shape: (8982, 1000)\n",
      "X_test.shape: (2246, 1000)\n"
     ]
    }
   ],
   "source": [
    "print(\"vectorizing the data ........\")\n",
    "tokanizer=Tokenizer(num_words=max_words)\n",
    "X_train=tokanizer.sequences_to_matrix(X_train, mode='binary')\n",
    "X_test=tokanizer.sequences_to_matrix(X_test, mode='binary')\n",
    "print(\"X_train.shape:\",X_train.shape)\n",
    "print(\"X_test.shape:\",X_test.shape)\n",
    "\n",
    "#converting the y to the matrics\n",
    "y_train=np_utils.to_categorical(y_train,nb_classes)\n",
    "y_test=np_utils.to_categorical(y_test,nb_classes)"
   ]
  },
  {
   "cell_type": "code",
   "execution_count": 5,
   "id": "3f6ad284-725c-40a0-9d95-be9473032425",
   "metadata": {},
   "outputs": [
    {
     "data": {
      "text/plain": [
       "array([[0., 1., 1., ..., 0., 0., 0.],\n",
       "       [0., 1., 1., ..., 0., 0., 0.],\n",
       "       [0., 1., 1., ..., 0., 0., 0.],\n",
       "       ...,\n",
       "       [0., 1., 1., ..., 0., 0., 0.],\n",
       "       [0., 1., 1., ..., 0., 0., 0.],\n",
       "       [0., 1., 1., ..., 0., 0., 0.]])"
      ]
     },
     "execution_count": 5,
     "metadata": {},
     "output_type": "execute_result"
    }
   ],
   "source": [
    "X_test"
   ]
  },
  {
   "cell_type": "markdown",
   "id": "53835921-afda-48ed-88ec-9b95dbd1e4b9",
   "metadata": {},
   "source": [
    "\n",
    "### Modeling"
   ]
  },
  {
   "cell_type": "code",
   "execution_count": 6,
   "id": "92c88bf0-97fa-4194-b2a6-78a0ba8cbf20",
   "metadata": {},
   "outputs": [
    {
     "name": "stdout",
     "output_type": "stream",
     "text": [
      "Epoch 1/5\n",
      "253/253 [==============================] - 3s 9ms/step - loss: 1.4168 - val_loss: 1.1076\n",
      "Epoch 2/5\n",
      "253/253 [==============================] - 2s 7ms/step - loss: 0.7783 - val_loss: 0.9055\n",
      "Epoch 3/5\n",
      "253/253 [==============================] - 2s 7ms/step - loss: 0.5540 - val_loss: 0.8699\n",
      "Epoch 4/5\n",
      "253/253 [==============================] - 2s 7ms/step - loss: 0.4110 - val_loss: 0.8953\n",
      "Epoch 5/5\n",
      "253/253 [==============================] - 2s 7ms/step - loss: 0.3290 - val_loss: 0.9092\n",
      "71/71 [==============================] - 0s 3ms/step - loss: 0.8651\n",
      "test score 0.8651449084281921\n",
      "test accuracy 0.8651449084281921\n"
     ]
    }
   ],
   "source": [
    "model=Sequential()\n",
    "model.add(Dense(512, input_shape=(max_words,)))\n",
    "model.add(Activation('relu'))\n",
    "model.add(Dropout(0.5))\n",
    "model.add(Dense(nb_classes))\n",
    "model.add(Activation('softmax'))\n",
    "#compile the model:\n",
    "model.compile(loss='categorical_crossentropy',optimizer='adam')\n",
    "history=model.fit(X_train,y_train,epochs=num_epochs, batch_size=batch_size,verbose=1, validation_split=0.1)\n",
    "score=model.evaluate(X_test,y_test, batch_size=batch_size, verbose=1)\n",
    "print(\"test score\",score)\n",
    "print(\"test accuracy\",score)"
   ]
  },
  {
   "cell_type": "code",
   "execution_count": 7,
   "id": "4cf9fbbb-3859-4f87-9750-23d28893df74",
   "metadata": {},
   "outputs": [
    {
     "name": "stdout",
     "output_type": "stream",
     "text": [
      "Epoch 1/5\n",
      "253/253 [==============================] - 3s 10ms/step - loss: 1.4020 - val_loss: 1.1025\n",
      "Epoch 2/5\n",
      "253/253 [==============================] - 2s 9ms/step - loss: 0.7807 - val_loss: 0.9986\n",
      "Epoch 3/5\n",
      "253/253 [==============================] - 2s 9ms/step - loss: 0.4928 - val_loss: 0.9387\n",
      "Epoch 4/5\n",
      "253/253 [==============================] - 2s 9ms/step - loss: 0.3321 - val_loss: 1.0037\n",
      "Epoch 5/5\n",
      "253/253 [==============================] - 2s 9ms/step - loss: 0.2555 - val_loss: 1.0156\n",
      "71/71 [==============================] - 0s 3ms/step - loss: 1.0176\n",
      "test score 1.0175747871398926\n",
      "test accuracy 1.0175747871398926\n"
     ]
    }
   ],
   "source": [
    "model=Sequential()\n",
    "model.add(Dense(512, input_shape=(max_words,)))\n",
    "model.add(Activation('relu'))\n",
    "model.add(Dense(512, input_shape=(max_words,)))\n",
    "model.add(Activation('relu'))\n",
    "model.add(Dropout(0.5))\n",
    "model.add(Dense(nb_classes))\n",
    "model.add(Activation('softmax'))\n",
    "#compile the model:\n",
    "model.compile(loss='categorical_crossentropy',optimizer='adam')\n",
    "history=model.fit(X_train,y_train,epochs=num_epochs, batch_size=batch_size,verbose=1, validation_split=0.1)\n",
    "score=model.evaluate(X_test,y_test, batch_size=batch_size, verbose=1)\n",
    "print(\"test score\",score)\n",
    "print(\"test accuracy\",score)"
   ]
  },
  {
   "cell_type": "code",
   "execution_count": 27,
   "id": "2f2b3849-f58a-4d0f-bc0b-a85f03bb5201",
   "metadata": {},
   "outputs": [
    {
     "name": "stdout",
     "output_type": "stream",
     "text": [
      "Epoch 1/20\n",
      "225/225 [==============================] - 3s 9ms/step - loss: 1.5092 - val_loss: 1.0939\n",
      "Epoch 2/20\n",
      "225/225 [==============================] - 2s 8ms/step - loss: 0.8696 - val_loss: 0.9425\n",
      "Epoch 3/20\n",
      "225/225 [==============================] - 2s 8ms/step - loss: 0.5688 - val_loss: 0.9489\n",
      "Epoch 4/20\n",
      "225/225 [==============================] - 2s 8ms/step - loss: 0.3827 - val_loss: 1.0507\n",
      "Epoch 5/20\n",
      "225/225 [==============================] - 2s 8ms/step - loss: 0.2978 - val_loss: 1.0764\n",
      "Epoch 6/20\n",
      "225/225 [==============================] - 2s 8ms/step - loss: 0.2284 - val_loss: 1.0753\n",
      "Epoch 7/20\n",
      "225/225 [==============================] - 2s 8ms/step - loss: 0.1921 - val_loss: 1.1249\n",
      "Epoch 8/20\n",
      "225/225 [==============================] - 2s 9ms/step - loss: 0.1738 - val_loss: 1.2181\n",
      "Epoch 9/20\n",
      "225/225 [==============================] - 2s 8ms/step - loss: 0.1579 - val_loss: 1.1797\n",
      "Epoch 10/20\n",
      "225/225 [==============================] - 2s 8ms/step - loss: 0.1461 - val_loss: 1.2293\n",
      "Epoch 11/20\n",
      "225/225 [==============================] - 2s 8ms/step - loss: 0.1373 - val_loss: 1.2718\n",
      "Epoch 12/20\n",
      "225/225 [==============================] - 2s 8ms/step - loss: 0.1290 - val_loss: 1.2326\n",
      "Epoch 13/20\n",
      "225/225 [==============================] - 2s 8ms/step - loss: 0.1273 - val_loss: 1.2341\n",
      "Epoch 14/20\n",
      "225/225 [==============================] - 2s 8ms/step - loss: 0.1232 - val_loss: 1.2098\n",
      "Epoch 15/20\n",
      "225/225 [==============================] - 2s 8ms/step - loss: 0.1123 - val_loss: 1.3679\n",
      "Epoch 16/20\n",
      "225/225 [==============================] - 2s 8ms/step - loss: 0.1141 - val_loss: 1.3979\n",
      "Epoch 17/20\n",
      "225/225 [==============================] - 2s 8ms/step - loss: 0.1097 - val_loss: 1.3451\n",
      "Epoch 18/20\n",
      "225/225 [==============================] - 2s 8ms/step - loss: 0.0960 - val_loss: 1.4622\n",
      "Epoch 19/20\n",
      "225/225 [==============================] - 2s 8ms/step - loss: 0.0960 - val_loss: 1.4059\n",
      "Epoch 20/20\n",
      "225/225 [==============================] - 2s 8ms/step - loss: 0.0954 - val_loss: 1.4810\n",
      "71/71 [==============================] - 0s 4ms/step - loss: 1.6805\n",
      "test score 1.6804674863815308\n",
      "281/281 [==============================] - 1s 3ms/step - loss: 0.3515\n",
      "train score 0.3514813482761383\n"
     ]
    }
   ],
   "source": [
    "model=Sequential()\n",
    "model.add(Dense(512, input_shape=(max_words,)))\n",
    "model.add(Activation('relu'))\n",
    "model.add(Dense(206, input_shape=(max_words,)))\n",
    "model.add(Activation('relu'))\n",
    "model.add(Dense(106, input_shape=(max_words,)))\n",
    "model.add(Dropout(0.5))\n",
    "model.add(Dense(nb_classes))\n",
    "model.add(Activation('softmax'))\n",
    "#compile the model:\n",
    "model.compile(loss='categorical_crossentropy',optimizer='adam')\n",
    "history=model.fit(X_train,y_train,epochs=20, batch_size=batch_size,verbose=1, validation_split=0.2)\n",
    "score=model.evaluate(X_test,y_test, batch_size=batch_size, verbose=1)\n",
    "print(\"test score\",score)\n",
    "score=model.evaluate(X_train,y_train, batch_size=batch_size, verbose=1)\n",
    "print(\"train score\",score)\n"
   ]
  },
  {
   "cell_type": "code",
   "execution_count": null,
   "id": "d05de18e-e060-4f5c-baed-c9a7641fc95c",
   "metadata": {},
   "outputs": [],
   "source": []
  }
 ],
 "metadata": {
  "kernelspec": {
   "display_name": "Python 3 (ipykernel)",
   "language": "python",
   "name": "python3"
  },
  "language_info": {
   "codemirror_mode": {
    "name": "ipython",
    "version": 3
   },
   "file_extension": ".py",
   "mimetype": "text/x-python",
   "name": "python",
   "nbconvert_exporter": "python",
   "pygments_lexer": "ipython3",
   "version": "3.9.13"
  }
 },
 "nbformat": 4,
 "nbformat_minor": 5
}
